{
 "cells": [
  {
   "cell_type": "code",
   "execution_count": 1,
   "id": "6cfd990d",
   "metadata": {
    "ExecuteTime": {
     "end_time": "2022-03-30T05:20:25.130723Z",
     "start_time": "2022-03-30T05:20:23.738611Z"
    },
    "scrolled": true
   },
   "outputs": [],
   "source": [
    "# classification mnist example \n",
    "import  os\n",
    "#os.environ['nvcc_path']='/usr/local/cuda-11.0/bin/nvcc'\n",
    "import jittor as jt  # 将 jittor 引入\n",
    "from jittor import nn, Module  # 引入相关的模块\n",
    "import numpy as np\n",
    "import math \n",
    "from jittor import init\n",
    "if jt.has_cuda:\n",
    "    jt.flags.use_cuda = 1 # jt.flags.use_cuda 表示是否使用 gpu 训练。\n",
    "# 如果 jt.flags.use_cuda=1，表示使用GPU训练 如果 jt.flags.use_cuda = 0 表示使用 CPU\n",
    "from jittor.dataset.mnist import MNIST \n",
    "#由于 MNIST 是一个常见的数据集，其数据载入已经被封装进 jittor 所以可以直接调用。"
   ]
  },
  {
   "cell_type": "code",
   "execution_count": 2,
   "id": "163be0a7",
   "metadata": {
    "ExecuteTime": {
     "end_time": "2022-03-30T05:20:25.137920Z",
     "start_time": "2022-03-30T05:20:25.132162Z"
    }
   },
   "outputs": [],
   "source": [
    "import gzip\n",
    "from PIL import Image\n",
    "from jittor.dataset import Dataset\n",
    "from jittor_utils.misc import download_url_to_local\n",
    "\n",
    "class MNIST(Dataset):\n",
    "    def __init__(self, data_root=\"./mnist_data/\", train=True ,download=True, batch_size=1, shuffle=False):\n",
    "        # if you want to test resnet etc you should set input_channel = 3, because the net set 3 as the input dimensions\n",
    "        super().__init__()\n",
    "        self.data_root = data_root\n",
    "        self.batch_size = batch_size\n",
    "        self.shuffle = shuffle\n",
    "        self.is_train = train\n",
    "        if download == True:\n",
    "            self.download_url()\n",
    "\n",
    "        filesname = [\n",
    "                \"train-images-idx3-ubyte.gz\",\n",
    "                \"t10k-images-idx3-ubyte.gz\",\n",
    "                \"train-labels-idx1-ubyte.gz\",\n",
    "                \"t10k-labels-idx1-ubyte.gz\"\n",
    "        ]\n",
    "        self.mnist = {}\n",
    "        if self.is_train:\n",
    "            with gzip.open(data_root + filesname[0], 'rb') as f:\n",
    "                self.mnist[\"images\"] = np.frombuffer(f.read(), np.uint8, offset=16).reshape(-1,28, 28)\n",
    "            with gzip.open(data_root + filesname[2], 'rb') as f:\n",
    "                self.mnist[\"labels\"] = np.frombuffer(f.read(), np.uint8, offset=8)\n",
    "        else:\n",
    "            with gzip.open(data_root + filesname[1], 'rb') as f:\n",
    "                self.mnist[\"images\"] = np.frombuffer(f.read(), np.uint8, offset=16).reshape(-1,28, 28)\n",
    "            with gzip.open(data_root + filesname[3], 'rb') as f:\n",
    "                self.mnist[\"labels\"] = np.frombuffer(f.read(), np.uint8, offset=8)\n",
    "        assert(self.mnist[\"images\"].shape[0] == self.mnist[\"labels\"].shape[0])\n",
    "        self.total_len = self.mnist[\"images\"].shape[0]\n",
    "        # this function must be called\n",
    "        self.set_attrs(batch_size = self.batch_size, total_len=self.total_len, shuffle= self.shuffle)\n",
    "    def __getitem__(self, index):\n",
    "        img = Image.fromarray (self.mnist['images'][index]) \n",
    "        img = np.array (img)\n",
    "        img = img[np.newaxis, :]\n",
    "        return np.array((img / 255.0), dtype = np.float32), self.mnist['labels'][index]\n",
    "\n",
    "    def download_url(self):\n",
    "        resources = [\n",
    "            (\"http://yann.lecun.com/exdb/mnist/train-images-idx3-ubyte.gz\", \"f68b3c2dcbeaaa9fbdd348bbdeb94873\"),\n",
    "            (\"http://yann.lecun.com/exdb/mnist/train-labels-idx1-ubyte.gz\", \"d53e105ee54ea40749a09fcbcd1e9432\"),\n",
    "            (\"http://yann.lecun.com/exdb/mnist/t10k-images-idx3-ubyte.gz\", \"9fb629c4189551a2d022fa330f9573f3\"),\n",
    "            (\"http://yann.lecun.com/exdb/mnist/t10k-labels-idx1-ubyte.gz\", \"ec29112dd5afa0611ce80d1b7f02629c\")\n",
    "        ]\n",
    "\n",
    "        for url, md5 in resources:\n",
    "            filename = url.rpartition('/')[2]\n",
    "            download_url_to_local(url, filename, self.data_root, md5)\n"
   ]
  },
  {
   "cell_type": "code",
   "execution_count": 3,
   "id": "f8168975",
   "metadata": {
    "ExecuteTime": {
     "end_time": "2022-03-30T05:20:25.145588Z",
     "start_time": "2022-03-30T05:20:25.138586Z"
    }
   },
   "outputs": [],
   "source": [
    "class Model (Module):\n",
    "    def __init__ (self):\n",
    "        super (Model, self).__init__()\n",
    "\n",
    "        self.relu = nn.Relu()\n",
    "        self.fc1 = nn.Linear (28*28, 512)\n",
    "        self.fc2 = nn.Linear (512, 10)\n",
    "    def execute (self, x) : \n",
    "        # it's simliar to forward function in Pytorch \n",
    "        x=jt.reshape(x,[x.shape[0],-1])\n",
    "        \n",
    "        x = self.fc1 (x)\n",
    "        x = self.relu(x)\n",
    "        x = self.fc2 (x)\n",
    "        return x\n"
   ]
  },
  {
   "cell_type": "code",
   "execution_count": null,
   "id": "865885ca",
   "metadata": {},
   "outputs": [],
   "source": []
  },
  {
   "cell_type": "code",
   "execution_count": 4,
   "id": "64938300",
   "metadata": {},
   "outputs": [
    {
     "name": "stdout",
     "output_type": "stream",
     "text": [
      "importing Jupyter notebook from jittor_metrics.ipynb\n"
     ]
    }
   ],
   "source": [
    "import ipynb_importer\n",
    "import jittor_metrics as metrics"
   ]
  },
  {
   "cell_type": "code",
   "execution_count": 5,
   "id": "b7a12ece",
   "metadata": {},
   "outputs": [],
   "source": [
    "batch_size = 64\n",
    "learning_rate = 1e-3\n",
    "epochs = 20\n",
    "losses = []\n",
    "losses_idx = []\n",
    "train_loader = MNIST(train=True, batch_size=batch_size, shuffle=True)\n",
    "\n",
    "val_loader = MNIST(train=False, batch_size=1, shuffle=False)\n",
    "\n",
    "model = Model ()\n",
    "optimizer = nn.Adam(model.parameters(), learning_rate)\n",
    "\n",
    "losses=metrics.MetricResultStorage()\n",
    "metric=metrics.SparseAccuracy()"
   ]
  },
  {
   "cell_type": "code",
   "execution_count": 7,
   "id": "15f7e447",
   "metadata": {
    "scrolled": true
   },
   "outputs": [
    {
     "name": "stdout",
     "output_type": "stream",
     "text": [
      "start train\n"
     ]
    },
    {
     "name": "stderr",
     "output_type": "stream",
     "text": [
      " 25%|########9                           | 233/938 [00:09<00:27, 25.79step/s, acc=0.8692, loss=0.4808, realtime=0.2451]\n"
     ]
    },
    {
     "ename": "KeyboardInterrupt",
     "evalue": "",
     "output_type": "error",
     "traceback": [
      "\u001b[1;31m---------------------------------------------------------------------------\u001b[0m",
      "\u001b[1;31mKeyboardInterrupt\u001b[0m                         Traceback (most recent call last)",
      "\u001b[1;32m~\\AppData\\Local\\Temp/ipykernel_2864/1274104343.py\u001b[0m in \u001b[0;36m<module>\u001b[1;34m\u001b[0m\n\u001b[0;32m     16\u001b[0m \u001b[1;33m\u001b[0m\u001b[0m\n\u001b[0;32m     17\u001b[0m             \u001b[0moptimizer\u001b[0m\u001b[1;33m.\u001b[0m\u001b[0mstep\u001b[0m \u001b[1;33m(\u001b[0m\u001b[0mloss\u001b[0m\u001b[1;33m)\u001b[0m\u001b[1;33m\u001b[0m\u001b[1;33m\u001b[0m\u001b[0m\n\u001b[1;32m---> 18\u001b[1;33m             \u001b[0mloss_f\u001b[0m\u001b[1;33m=\u001b[0m\u001b[0mnp\u001b[0m\u001b[1;33m.\u001b[0m\u001b[0msum\u001b[0m\u001b[1;33m(\u001b[0m\u001b[0mloss\u001b[0m\u001b[1;33m.\u001b[0m\u001b[0mnumpy\u001b[0m\u001b[1;33m(\u001b[0m\u001b[1;33m)\u001b[0m\u001b[1;33m)\u001b[0m\u001b[1;33m\u001b[0m\u001b[1;33m\u001b[0m\u001b[0m\n\u001b[0m\u001b[0;32m     19\u001b[0m             \u001b[0mlosses\u001b[0m\u001b[1;33m.\u001b[0m\u001b[0mpush\u001b[0m\u001b[1;33m(\u001b[0m\u001b[0mloss_f\u001b[0m\u001b[1;33m)\u001b[0m\u001b[1;33m\u001b[0m\u001b[1;33m\u001b[0m\u001b[0m\n\u001b[0;32m     20\u001b[0m             \u001b[0macc\u001b[0m\u001b[1;33m=\u001b[0m\u001b[0mmetric\u001b[0m\u001b[1;33m.\u001b[0m\u001b[0mupdate_state\u001b[0m\u001b[1;33m(\u001b[0m\u001b[0my\u001b[0m\u001b[1;33m,\u001b[0m\u001b[0mpred\u001b[0m\u001b[1;33m)\u001b[0m\u001b[1;33m\u001b[0m\u001b[1;33m\u001b[0m\u001b[0m\n",
      "\u001b[1;32m<__array_function__ internals>\u001b[0m in \u001b[0;36msum\u001b[1;34m(*args, **kwargs)\u001b[0m\n",
      "\u001b[1;31mKeyboardInterrupt\u001b[0m: "
     ]
    }
   ],
   "source": [
    "from tqdm import tqdm\n",
    "epochs=1\n",
    "print('start train')\n",
    "for epoch in range(epochs):\n",
    "#     metric.reset_states()\n",
    "    model.train()\n",
    "    lens = len(train_loader)\n",
    "    \n",
    "#     losses = []\n",
    "#     optimizer.zero_grad()\n",
    "    with tqdm(total=lens, unit='step',ascii=True) as tq:\n",
    "        for batch_idx, (x,y) in enumerate(train_loader):\n",
    "            \n",
    "            pred = model(x)\n",
    "            loss = nn.cross_entropy_loss(pred,y)\n",
    "            \n",
    "            optimizer.step (loss)\n",
    "            loss_f=np.sum(loss.numpy())\n",
    "            losses.push(loss_f)\n",
    "            acc=metric.update_state(y,pred)\n",
    "            \n",
    "            tq.set_postfix(loss='{:.4f}'.format(losses.result),\n",
    "                           acc='{:.4f}'.format(metric.result),\n",
    "                          realtime='{:.4f}'.format(loss_f))\n",
    "            tq.update(1)"
   ]
  },
  {
   "cell_type": "code",
   "execution_count": null,
   "id": "abe672a6",
   "metadata": {},
   "outputs": [],
   "source": []
  }
 ],
 "metadata": {
  "kernelspec": {
   "display_name": "Python 3 (ipykernel)",
   "language": "python",
   "name": "python3"
  },
  "language_info": {
   "codemirror_mode": {
    "name": "ipython",
    "version": 3
   },
   "file_extension": ".py",
   "mimetype": "text/x-python",
   "name": "python",
   "nbconvert_exporter": "python",
   "pygments_lexer": "ipython3",
   "version": "3.9.12"
  },
  "toc": {
   "base_numbering": 1,
   "nav_menu": {},
   "number_sections": true,
   "sideBar": true,
   "skip_h1_title": false,
   "title_cell": "Table of Contents",
   "title_sidebar": "Contents",
   "toc_cell": false,
   "toc_position": {},
   "toc_section_display": true,
   "toc_window_display": false
  },
  "varInspector": {
   "cols": {
    "lenName": 16,
    "lenType": 16,
    "lenVar": 40
   },
   "kernels_config": {
    "python": {
     "delete_cmd_postfix": "",
     "delete_cmd_prefix": "del ",
     "library": "var_list.py",
     "varRefreshCmd": "print(var_dic_list())"
    },
    "r": {
     "delete_cmd_postfix": ") ",
     "delete_cmd_prefix": "rm(",
     "library": "var_list.r",
     "varRefreshCmd": "cat(var_dic_list()) "
    }
   },
   "types_to_exclude": [
    "module",
    "function",
    "builtin_function_or_method",
    "instance",
    "_Feature"
   ],
   "window_display": false
  }
 },
 "nbformat": 4,
 "nbformat_minor": 5
}
