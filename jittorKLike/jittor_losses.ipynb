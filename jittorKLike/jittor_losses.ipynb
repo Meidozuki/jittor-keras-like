{
 "cells": [
  {
   "cell_type": "code",
   "execution_count": 1,
   "id": "4d36dd23",
   "metadata": {},
   "outputs": [],
   "source": [
    "import jittor as jt\n",
    "from jittor import nn"
   ]
  },
  {
   "cell_type": "code",
   "execution_count": null,
   "id": "659fb5bc",
   "metadata": {},
   "outputs": [],
   "source": [
    "class BinaryCrossentropy(nn.Module):\n",
    "    def __init__(self,from_logits=False,reduction='mean'):\n",
    "        if from_logits:\n",
    "            self.loss_fn=nn.bce_loss\n",
    "        else:\n",
    "            self.loss_fn=nn.binary_cross_entropy_with_logits\n",
    "    \n",
    "    def execute(self,y_true,y_pred):\n",
    "        return self.loss_fn(y_pred,y_true)"
   ]
  }
 ],
 "metadata": {
  "kernelspec": {
   "display_name": "Python 3 (ipykernel)",
   "language": "python",
   "name": "python3"
  },
  "language_info": {
   "codemirror_mode": {
    "name": "ipython",
    "version": 3
   },
   "file_extension": ".py",
   "mimetype": "text/x-python",
   "name": "python",
   "nbconvert_exporter": "python",
   "pygments_lexer": "ipython3",
   "version": "3.9.12"
  }
 },
 "nbformat": 4,
 "nbformat_minor": 5
}
