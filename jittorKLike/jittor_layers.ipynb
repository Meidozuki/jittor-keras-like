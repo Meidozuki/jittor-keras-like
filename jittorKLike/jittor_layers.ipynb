{
 "cells": [
  {
   "cell_type": "code",
   "execution_count": 8,
   "id": "812ed61c",
   "metadata": {
    "ExecuteTime": {
     "end_time": "2022-05-15T01:55:47.413999Z",
     "start_time": "2022-05-15T01:55:47.410987Z"
    }
   },
   "outputs": [],
   "source": [
    "import os,sys\n",
    "sys.path.append(os.path.abspath('..'))\n",
    "import abc\n",
    "from jittorKLike.utils import cAxis,silent_preload_jittor\n",
    "silent_preload_jittor()\n",
    "import jittor as jt\n",
    "from jittor import nn\n",
    "from functools import partial,wraps\n",
    "import logging"
   ]
  },
  {
   "cell_type": "code",
   "execution_count": 2,
   "id": "e5168c11",
   "metadata": {
    "ExecuteTime": {
     "end_time": "2022-05-15T01:52:41.368521Z",
     "start_time": "2022-05-15T01:52:41.355198Z"
    }
   },
   "outputs": [],
   "source": [
    "\n",
    "activation_dict={\n",
    "    'relu':nn.ReLU, \n",
    "    'leakyrelu':nn.LeakyReLU, \n",
    "    'sigmoid':nn.Sigmoid,\n",
    "    'tanh':nn.Tanh,\n",
    "    'softmax':partial(nn.Softmax,dim=cAxis),\n",
    "}"
   ]
  },
  {
   "cell_type": "code",
   "execution_count": 3,
   "id": "3c6e1e25",
   "metadata": {
    "ExecuteTime": {
     "end_time": "2022-05-15T01:52:42.713215Z",
     "start_time": "2022-05-15T01:52:42.694251Z"
    }
   },
   "outputs": [],
   "source": [
    "def get_activation(act):\n",
    "    #引入None，可以直接act=get_act而不用if\n",
    "    if act is None:\n",
    "        return None\n",
    "    else:\n",
    "        act=str.lower(act)\n",
    "    return activation_dict[act]()\n",
    "\n",
    "def check_activations():\n",
    "    check=True\n",
    "    for name,constr in activation_dict.items():\n",
    "        if name is None: continue\n",
    "        try:\n",
    "            constr()\n",
    "        except:\n",
    "            check=False\n",
    "            logging.warning(f'Check_activations: Failed when constructing activation {name}')\n",
    "    if check:\n",
    "        logging.info('Check_activations: All activations ready.')\n",
    "    else:\n",
    "        logging.warning('Check_activations: Not all activations are available.')\n",
    "        \n",
    "check_activations()"
   ]
  },
  {
   "cell_type": "code",
   "execution_count": null,
   "id": "419e3784",
   "metadata": {},
   "outputs": [],
   "source": []
  },
  {
   "cell_type": "code",
   "execution_count": 4,
   "id": "47c39601",
   "metadata": {
    "ExecuteTime": {
     "end_time": "2022-05-15T01:52:48.702350Z",
     "start_time": "2022-05-15T01:52:48.685411Z"
    }
   },
   "outputs": [],
   "source": [
    "# Simple alias\n",
    "Embedding=nn.Embedding\n",
    "Dropout=nn.Dropout"
   ]
  },
  {
   "cell_type": "code",
   "execution_count": null,
   "id": "b94830c3",
   "metadata": {},
   "outputs": [],
   "source": []
  },
  {
   "cell_type": "code",
   "execution_count": 5,
   "id": "397b39a4",
   "metadata": {
    "ExecuteTime": {
     "end_time": "2022-05-15T01:52:52.439111Z",
     "start_time": "2022-05-15T01:52:52.424853Z"
    }
   },
   "outputs": [],
   "source": [
    "class Dense(nn.Module):\n",
    "    def __init__(self,inC,units,activation=None):\n",
    "        super().__init__()\n",
    "        self.fc=nn.Linear(inC,units)\n",
    "        self.act=get_activation(activation)\n",
    "        \n",
    "    def execute(self,x):\n",
    "        x=self.fc(x)\n",
    "        if self.act is not None:\n",
    "            x=self.act(x)\n",
    "        return x\n",
    "    \n",
    "class BasicDense(nn.Module):\n",
    "    '''\n",
    "    This class is for channels_last format, eg. RNN.\n",
    "    '''\n",
    "    def __init__(self,input_dim,units,activation=None,use_bias=True):\n",
    "        super().__init__()\n",
    "        import jittorKLike.keras_ops as K\n",
    "        \n",
    "        self.units = int(units) if not isinstance(units, int) else units\n",
    "        self.activation = get_activation(activation)\n",
    "        self.use_bias=use_bias\n",
    "        \n",
    "        self.kernel=K.random_normal([input_dim,units])\n",
    "        self.bias=K.random_normal([units]) if use_bias else None\n",
    "        \n",
    "    def execute(self,inputs):\n",
    "        x=jt.matmul(inputs, self.kernel)\n",
    "        if self.use_bias:\n",
    "            x=x+self.bias\n",
    "        if self.activation is not None:\n",
    "            x=self.activation(x)\n",
    "        return x"
   ]
  },
  {
   "cell_type": "code",
   "execution_count": 6,
   "id": "721c6047",
   "metadata": {
    "ExecuteTime": {
     "end_time": "2022-05-15T01:52:54.523792Z",
     "start_time": "2022-05-15T01:52:54.503754Z"
    }
   },
   "outputs": [],
   "source": [
    "class Conv2D(nn.Module):\n",
    "    def __init__(self,inC,outC,kernel_size=3,stride=1,padding='valid',activation=None,**kwargs):\n",
    "        super().__init__()\n",
    "        \n",
    "        padding=self._check_padding(padding,kernel_size)\n",
    "        \n",
    "        self.conv=nn.Conv2d(inC,outC,\n",
    "                            kernel_size=kernel_size,stride=stride,padding=padding,**kwargs)\n",
    "        self.act=get_activation(activation)\n",
    "        \n",
    "    def execute(self,x):\n",
    "        x=self.conv(x)\n",
    "        if self.act is not None:\n",
    "            x=self.act(x)\n",
    "        return x\n",
    "        \n",
    "    def _check_padding(self,pad,kernel_size):\n",
    "        if isinstance(pad,str):\n",
    "            pad=str.lower(pad)\n",
    "            if pad in ['valid','same']:\n",
    "                if pad == 'valid':\n",
    "                    return 0\n",
    "                else:\n",
    "                    if isinstance(kernel_size,int):\n",
    "                        k=[kernel_size]*2\n",
    "                    else: \n",
    "                        k=kernel_size\n",
    "                    return tuple(map(lambda x:(x-1)//2, k))\n",
    "            else:\n",
    "                raise KeyError('Expected padding with str-type to be one of [\\'valid\\',\\'same\\']'\\\n",
    "                              f', but receive: {pad}')\n",
    "        elif isinstance(pad,[tuple]):\n",
    "            return pad"
   ]
  },
  {
   "cell_type": "code",
   "execution_count": 7,
   "id": "4ed01e1d",
   "metadata": {
    "ExecuteTime": {
     "end_time": "2022-05-15T01:52:55.130512Z",
     "start_time": "2022-05-15T01:52:55.121280Z"
    }
   },
   "outputs": [],
   "source": [
    "class Conv2DTranspose(Conv2D):\n",
    "    def __init__(self,inC,outC,kernel_size=3,stride=1,padding='valid',output_padding=0,activation=None,**kwargs):\n",
    "        #此处跳过一层Conv2D初始化\n",
    "        super(Conv2D,self).__init__()\n",
    "        \n",
    "        padding=self._check_padding(padding,kernel_size)\n",
    "        \n",
    "        self.conv=nn.ConvTranspose(inC,outC,\n",
    "                            kernel_size=kernel_size,stride=stride,padding=padding,output_padding=output_padding,**kwargs)\n",
    "        self.act=get_activation(activation)"
   ]
  },
  {
   "cell_type": "code",
   "execution_count": 8,
   "id": "8bd33b18",
   "metadata": {},
   "outputs": [],
   "source": [
    "class Pooling(nn.Module):\n",
    "    def __init__(self,pool_size=2,stride=None):\n",
    "        '''\n",
    "        args:\n",
    "          pool_size (name from keras): default 2 (from keras)\n",
    "        '''\n",
    "        super().__init__()\n",
    "\n",
    "class MaxPool2D(Pooling):\n",
    "    @wraps(Pooling.__init__)\n",
    "    def __init__(self,pool_size=2,stride=None):\n",
    "        super().__init__()\n",
    "        self.pool=nn.MaxPool2d(kernel_size=pool_size,stride=stride)\n",
    "        \n",
    "    def execute(self,x):\n",
    "        return self.pool(x)\n",
    "    \n",
    "class AvgPool2D(Pooling):\n",
    "    @wraps(Pooling.__init__)\n",
    "    def __init__(self,pool_size=2,stride=None):\n",
    "        super().__init__()\n",
    "        self.pool=nn.AvgPool2d(kernel_size=pool_size,stride=stride)\n",
    "        \n",
    "    def execute(self,x):\n",
    "        return self.pool(x)\n",
    "    \n",
    "AveragePool2D=AvgPool2D"
   ]
  },
  {
   "cell_type": "code",
   "execution_count": 9,
   "id": "517c9c00",
   "metadata": {},
   "outputs": [],
   "source": [
    "class UpSample2D(nn.Module):\n",
    "    def __init__(self,scale_factor=2,interpolation='nearest'):\n",
    "        '''\n",
    "        args:\n",
    "          scale_factor (name from jittor/torch): default 2 (from keras)\n",
    "          interpolation (name from opencv/keras)\n",
    "        '''\n",
    "        super().__init__()\n",
    "        self.upsample=nn.Upsample(scale_factor=scale_factor,mode=interpolation)\n",
    "    \n",
    "    def execute(self,x):\n",
    "        return self.upsample(x)\n",
    "    \n",
    "UpSampling2D=UpSample2D"
   ]
  },
  {
   "cell_type": "code",
   "execution_count": 23,
   "id": "91c564a2",
   "metadata": {
    "ExecuteTime": {
     "end_time": "2022-05-15T02:08:10.490800Z",
     "start_time": "2022-05-15T02:08:10.483682Z"
    }
   },
   "outputs": [],
   "source": [
    "class _RNNFactory(nn.Module,metaclass=abc.ABCMeta):\n",
    "    @abc.abstractmethod\n",
    "    def __init__(self,**kwargs):\n",
    "        super().__init__()\n",
    "        \n",
    "    def execute(self,x):\n",
    "        x=self.rnn(x)[0]\n",
    "        if self.return_sequence:\n",
    "            return x\n",
    "        else:\n",
    "            return x[:,0,:]"
   ]
  },
  {
   "cell_type": "code",
   "execution_count": 28,
   "id": "f6d4a3b9",
   "metadata": {
    "ExecuteTime": {
     "end_time": "2022-05-15T02:09:24.162221Z",
     "start_time": "2022-05-15T02:09:24.155460Z"
    }
   },
   "outputs": [],
   "source": [
    "class RNN(_RNNFactory):\n",
    "    def __init__(self,inC,outC,return_sequence=True,bidirectional=False,*args,**kwargs):\n",
    "        super().__init__()\n",
    "        self.return_sequence=return_sequence\n",
    "        self.rnn=nn.RNN(inC,outC,bidirectional=bidirectional,*args,**kwargs)\n",
    "        \n",
    "class GRU(_RNNFactory):\n",
    "    def __init__(self,inC,outC,return_sequence=True,bidirectional=False,*args,**kwargs):\n",
    "        super().__init__()\n",
    "        self.return_sequence=return_sequence\n",
    "        self.rnn=nn.GRU(inC,outC,bidirectional=bidirectional,*args,**kwargs)\n",
    "        \n",
    "class LSTM(_RNNFactory):\n",
    "    def __init__(self,inC,outC,return_sequence=True,bidirectional=False,*args,**kwargs):\n",
    "        super().__init__()\n",
    "        self.return_sequence=return_sequence\n",
    "        self.rnn=nn.LSTM(inC,outC,bidirectional=bidirectional,*args,**kwargs)"
   ]
  },
  {
   "cell_type": "code",
   "execution_count": 10,
   "id": "eb52fd4d",
   "metadata": {
    "ExecuteTime": {
     "end_time": "2022-04-17T04:29:47.474373Z",
     "start_time": "2022-04-17T04:29:47.456376Z"
    }
   },
   "outputs": [],
   "source": [
    "class Flatten(nn.Module):\n",
    "    # A layer wrapper. Same as nn.flatten(inputs,1,-1)\n",
    "    def execute(self,inputs):\n",
    "        return nn.flatten(inputs,start_dim=1,end_dim=-1)\n",
    "    \n",
    "class Reshape(nn.Module):\n",
    "    def __init__(self,shape):\n",
    "        super().__init__()\n",
    "        self.shape=list(shape)\n",
    "    \n",
    "    def execute(self,inputs):\n",
    "        batchsz=inputs.shape[0]\n",
    "        return jt.reshape(inputs,[batchsz]+self.shape)"
   ]
  },
  {
   "cell_type": "code",
   "execution_count": 11,
   "id": "05907300",
   "metadata": {},
   "outputs": [],
   "source": [
    "class Concat(nn.Module):\n",
    "    def execute(self,inputs):\n",
    "        return jt.concat(inputs, dim=cAxis)"
   ]
  },
  {
   "cell_type": "code",
   "execution_count": null,
   "id": "8cc24856",
   "metadata": {},
   "outputs": [],
   "source": []
  }
 ],
 "metadata": {
  "kernelspec": {
   "display_name": "Python 3 (ipykernel)",
   "language": "python",
   "name": "python3"
  },
  "language_info": {
   "codemirror_mode": {
    "name": "ipython",
    "version": 3
   },
   "file_extension": ".py",
   "mimetype": "text/x-python",
   "name": "python",
   "nbconvert_exporter": "python",
   "pygments_lexer": "ipython3",
   "version": "3.9.12"
  }
 },
 "nbformat": 4,
 "nbformat_minor": 5
}
