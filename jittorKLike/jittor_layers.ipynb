{
 "cells": [
  {
   "cell_type": "code",
   "execution_count": 1,
   "id": "812ed61c",
   "metadata": {
    "ExecuteTime": {
     "end_time": "2022-04-16T15:49:37.861116Z",
     "start_time": "2022-04-16T15:49:35.066444Z"
    }
   },
   "outputs": [],
   "source": [
    "from utils import cAxis,silent_preload_jittor\n",
    "silent_preload_jittor()\n",
    "import jittor as jt\n",
    "from jittor import nn\n",
    "from functools import partial\n",
    "import logging"
   ]
  },
  {
   "cell_type": "code",
   "execution_count": 15,
   "id": "e5168c11",
   "metadata": {},
   "outputs": [],
   "source": [
    "\n",
    "activation_dict={\n",
    "    None:None,\n",
    "    'relu':nn.ReLU, \n",
    "    'leakyrelu':nn.LeakyReLU, \n",
    "    'sigmoid':nn.Sigmoid,\n",
    "    'tanh':nn.Tanh,\n",
    "    'softmax':partial(nn.Softmax,dim=cAxis),\n",
    "}"
   ]
  },
  {
   "cell_type": "code",
   "execution_count": 16,
   "id": "3c6e1e25",
   "metadata": {},
   "outputs": [],
   "source": [
    "def get_activation(act):\n",
    "    act=str.lower(act)\n",
    "    return activation_dict[act]()\n",
    "\n",
    "def check_activations():\n",
    "    check=True\n",
    "    for name,constr in activation_dict.items():\n",
    "        if name is None: continue\n",
    "        try:\n",
    "            constr()\n",
    "        except:\n",
    "            check=False\n",
    "            logging.warning(f'Check_activations: Failed when constructing activation {name}')\n",
    "    if check:\n",
    "        logging.info('Check_activations: All activations ready.')\n",
    "    else:\n",
    "        logging.warning('Check_activations: Not all activations are available.')\n",
    "        \n",
    "check_activations()"
   ]
  },
  {
   "cell_type": "code",
   "execution_count": 4,
   "id": "397b39a4",
   "metadata": {
    "ExecuteTime": {
     "end_time": "2022-04-16T15:39:45.900247Z",
     "start_time": "2022-04-16T15:39:45.891217Z"
    }
   },
   "outputs": [],
   "source": [
    "class Dense(nn.Module):\n",
    "    def __init__(self,inC,units,activation=None):\n",
    "        super().__init__()\n",
    "        self.fc=nn.Linear(inC,units)\n",
    "        self.act=get_activation(activation)\n",
    "        \n",
    "    def execute(self,x):\n",
    "        x=self.fc(x)\n",
    "        if self.act is not None:\n",
    "            x=self.act(x)\n",
    "        return x"
   ]
  },
  {
   "cell_type": "code",
   "execution_count": 4,
   "id": "721c6047",
   "metadata": {},
   "outputs": [],
   "source": [
    "class Conv2D(nn.Module):\n",
    "    def __init__(self,inC,outC,kernel_size=3,stride=1,padding='valid',activation=None,**kwargs):\n",
    "        super().__init__()\n",
    "        \n",
    "        padding=self._check_padding(padding,kernel_size)\n",
    "        \n",
    "        self.conv=nn.Conv2d(inC,outC,\n",
    "                            kernel_size=kernel_size,stride=stride,padding=padding,**kwargs)\n",
    "        self.act=get_activation(activation)\n",
    "        \n",
    "    def execute(self,x):\n",
    "        x=self.conv(x)\n",
    "        if self.act is not None:\n",
    "            x=self.act(x)\n",
    "        return x\n",
    "        \n",
    "    def _check_padding(self,pad,kernel_size):\n",
    "        if isinstance(pad,str):\n",
    "            pad=str.lower(pad)\n",
    "            if pad in ['valid','same']:\n",
    "                if pad == 'valid':\n",
    "                    return 0\n",
    "                else:\n",
    "                    if isinstance(kernel_size,int):\n",
    "                        k=[kernel_size]*2\n",
    "                    else: \n",
    "                        k=kernel_size\n",
    "                    return tuple(map(lambda x:(x-1)//2, k))\n",
    "            else:\n",
    "                raise KeyError('Expected padding with str-type to be one of [\\'valid\\',\\'same\\']'\\\n",
    "                              f', but receive: {pad}')\n",
    "        elif isinstance(pad,[tuple]):\n",
    "            return pad"
   ]
  },
  {
   "cell_type": "code",
   "execution_count": null,
   "id": "8bd33b18",
   "metadata": {},
   "outputs": [],
   "source": [
    "class MaxPool2D(nn.Module):\n",
    "    def __init__(self,pool_size=2,strides=None):\n",
    "        '''\n",
    "        args:\n",
    "          pool_size (name from keras): default 2 (from keras)\n",
    "        '''\n",
    "        super().__init__()\n",
    "        self.pool=nn.MaxPool2d(kernel_size=pool_size,stride=strides)\n",
    "        \n",
    "    def execute(self,x):\n",
    "        return self.pool(x)"
   ]
  },
  {
   "cell_type": "code",
   "execution_count": 5,
   "id": "517c9c00",
   "metadata": {},
   "outputs": [],
   "source": [
    "class UpSample2D(nn.Module):\n",
    "    def __init__(self,scale_factor=2,interpolation='nearest'):\n",
    "        '''\n",
    "        args:\n",
    "          scale_factor (name from jittor/torch): default 2 (from keras)\n",
    "          interpolation (name from opencv/keras)\n",
    "        '''\n",
    "        super().__init__()\n",
    "        self.upsample=nn.Upsample(scale_factor=scale_factor,mode=interpolation)\n",
    "    \n",
    "    def execute(self,x):\n",
    "        return self.upsample(x)\n",
    "    \n",
    "UpSampling2D=UpSample2D"
   ]
  },
  {
   "cell_type": "code",
   "execution_count": 6,
   "id": "eb52fd4d",
   "metadata": {},
   "outputs": [],
   "source": [
    "class Concat(nn.Module):\n",
    "    def execute(self,inputs):\n",
    "        return jt.concat(inputs, dim=cAxis)"
   ]
  },
  {
   "cell_type": "code",
   "execution_count": null,
   "id": "8cc24856",
   "metadata": {},
   "outputs": [],
   "source": []
  }
 ],
 "metadata": {
  "kernelspec": {
   "display_name": "Python 3 (ipykernel)",
   "language": "python",
   "name": "python3"
  },
  "language_info": {
   "codemirror_mode": {
    "name": "ipython",
    "version": 3
   },
   "file_extension": ".py",
   "mimetype": "text/x-python",
   "name": "python",
   "nbconvert_exporter": "python",
   "pygments_lexer": "ipython3",
   "version": "3.9.12"
  }
 },
 "nbformat": 4,
 "nbformat_minor": 5
}
