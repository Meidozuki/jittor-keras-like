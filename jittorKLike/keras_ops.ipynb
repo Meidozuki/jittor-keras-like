{
 "cells": [
  {
   "cell_type": "code",
   "execution_count": 31,
   "id": "7cfbf0ce",
   "metadata": {
    "ExecuteTime": {
     "end_time": "2022-05-13T10:07:31.282478Z",
     "start_time": "2022-05-13T10:07:31.262185Z"
    }
   },
   "outputs": [],
   "source": [
    "import numpy as np\n",
    "import jittor as jt\n",
    "from functools import wraps"
   ]
  },
  {
   "cell_type": "code",
   "execution_count": 20,
   "id": "87c2e846",
   "metadata": {
    "ExecuteTime": {
     "end_time": "2022-05-13T01:58:33.018317Z",
     "start_time": "2022-05-13T01:58:33.013317Z"
    }
   },
   "outputs": [],
   "source": [
    "def softmax(x,axis):\n",
    "    return jt.nn.softmax(x,dim=axis)\n",
    "\n",
    "def dot(x,y):\n",
    "    return jt.matmul(x,y)"
   ]
  },
  {
   "cell_type": "code",
   "execution_count": 26,
   "id": "9689fe60",
   "metadata": {
    "ExecuteTime": {
     "end_time": "2022-05-13T02:00:51.230968Z",
     "start_time": "2022-05-13T02:00:51.224968Z"
    }
   },
   "outputs": [],
   "source": [
    "\n",
    "def sum(x, axis=None, keepdims=False):\n",
    "    return jt.sum(x,dim=axis,keepdims=keepdims)"
   ]
  },
  {
   "cell_type": "code",
   "execution_count": null,
   "id": "736da652",
   "metadata": {},
   "outputs": [],
   "source": [
    "def random_normal(shape, mean=0.0, stddev=1.0, dtype=None, seed=None):\n",
    "    '''some args are not available yet'''\n",
    "    return jt.random(shape,type='normal')"
   ]
  },
  {
   "cell_type": "code",
   "execution_count": 30,
   "id": "62fde8ee",
   "metadata": {
    "ExecuteTime": {
     "end_time": "2022-05-13T03:48:03.256837Z",
     "start_time": "2022-05-13T03:48:03.239285Z"
    }
   },
   "outputs": [
    {
     "name": "stdout",
     "output_type": "stream",
     "text": [
      "Help on function random in module jittor:\n",
      "\n",
      "random(shape, dtype='float32', type='uniform')\n",
      "\n"
     ]
    }
   ],
   "source": [
    "# help(jt.random)"
   ]
  }
 ],
 "metadata": {
  "kernelspec": {
   "display_name": "Python 3 (ipykernel)",
   "language": "python",
   "name": "python3"
  },
  "language_info": {
   "codemirror_mode": {
    "name": "ipython",
    "version": 3
   },
   "file_extension": ".py",
   "mimetype": "text/x-python",
   "name": "python",
   "nbconvert_exporter": "python",
   "pygments_lexer": "ipython3",
   "version": "3.9.12"
  }
 },
 "nbformat": 4,
 "nbformat_minor": 5
}
