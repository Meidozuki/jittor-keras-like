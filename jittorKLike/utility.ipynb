{
 "cells": [
  {
   "cell_type": "code",
   "execution_count": null,
   "id": "5c142f57",
   "metadata": {},
   "outputs": [],
   "source": [
    "class SequentialFilterBuffer(object):\n",
    "    '''\n",
    "    A class for creating model like keras\n",
    "    Example:\n",
    "        Q=SequentialFilterBuffer(inC=1)\n",
    "        layer=nn.Conv2d(*Q(filters),*args,**kwargs)\n",
    "        layer=nn.MaxPool(Q(),*args,**kwargs)\n",
    "    '''\n",
    "    def __init__(self,inC=None):\n",
    "        super().__init__()\n",
    "        self.inited=False\n",
    "        self._state=None\n",
    "        \n",
    "        if inC:\n",
    "            self.push_init(inC)\n",
    "            \n",
    "    def __call__(self,filters=None,new_filters=None):\n",
    "        if filters:\n",
    "            if new_filters:\n",
    "                self._state=new_filters\n",
    "                return (filters,new_filters)\n",
    "            else:\n",
    "                cur=self._state\n",
    "                self._state=filters\n",
    "                return (cur,filters)\n",
    "        else:\n",
    "            return self._state\n",
    "            \n",
    "    def push_init(self,inC:int):\n",
    "        import logging\n",
    "        if self.inited:\n",
    "            logging.warning('Buffer has been initialized. Overwrite previous value '+f'{self._state}.')\n",
    "        self._state=inC\n",
    "        self.inited=True\n",
    "        \n",
    "    def update(self,inC:int):\n",
    "        self._state=inC"
   ]
  }
 ],
 "metadata": {
  "kernelspec": {
   "display_name": "Python 3 (ipykernel)",
   "language": "python",
   "name": "python3"
  },
  "language_info": {
   "codemirror_mode": {
    "name": "ipython",
    "version": 3
   },
   "file_extension": ".py",
   "mimetype": "text/x-python",
   "name": "python",
   "nbconvert_exporter": "python",
   "pygments_lexer": "ipython3",
   "version": "3.9.12"
  }
 },
 "nbformat": 4,
 "nbformat_minor": 5
}
